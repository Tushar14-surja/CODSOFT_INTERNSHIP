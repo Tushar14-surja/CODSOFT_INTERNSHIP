{
  "cells": [
    {
      "cell_type": "markdown",
      "metadata": {},
      "source": [
        "▶**TASK-3 : IRIS FLOWER CLASSIFICATION**\n",
        "\n",
        "> Author: Tushar Surja\n",
        "\n",
        "> Batch: June 2025 batch B33\n",
        "\n",
        "> Domain: Data Science\n",
        "\n",
        "\n",
        "> Aim: to develop a model that can classify iris\n",
        "flowers into different species based on their sepal and petal\n",
        "measurements\n",
        "\n"
      ]
    },
    {
      "cell_type": "markdown",
      "metadata": {
        "id": "bd8f1c12"
      },
      "source": [
        "**Reasoning**:\n",
        "Create the code cell for importing necessary libraries, the markdown cell for data loading and initial inspection, and the code cell for loading the dataset and displaying the head.\n",
        "\n"
      ]
    },
    {
      "cell_type": "code",
      "execution_count": null,
      "metadata": {
        "id": "ce7857f2"
      },
      "outputs": [],
      "source": [
        "import pandas as pd\n",
        "from sklearn.model_selection import train_test_split\n",
        "from sklearn.preprocessing import LabelEncoder\n",
        "from sklearn.ensemble import RandomForestClassifier\n",
        "from sklearn.metrics import classification_report, accuracy_score\n",
        "import matplotlib.pyplot as plt\n",
        "import seaborn as sns"
      ]
    },
    {
      "cell_type": "markdown",
      "metadata": {
        "id": "42d5ced7"
      },
      "source": [
        "**Reasoning**:\n",
        "Create the markdown cell for data loading and initial inspection, and the code cell for loading the dataset and displaying the head.\n",
        "\n"
      ]
    },
    {
      "cell_type": "code",
      "execution_count": null,
      "metadata": {
        "colab": {
          "base_uri": "https://localhost:8080/",
          "height": 64
        },
        "id": "269597ee",
        "outputId": "f9298c4f-1d57-4cb0-a8f2-0657eb0cec42"
      },
      "outputs": [
        {
          "data": {
            "text/markdown": [
              "## 1. Data Loading and Initial Inspection\n"
            ],
            "text/plain": [
              "<IPython.core.display.Markdown object>"
            ]
          },
          "metadata": {},
          "output_type": "display_data"
        }
      ],
      "source": [
        "%%markdown\n",
        "## 1. Data Loading and Initial Inspection"
      ]
    },
    {
      "cell_type": "markdown",
      "metadata": {
        "id": "e0571da7"
      },
      "source": [
        "**Reasoning**:\n",
        "Create the code cell for loading the dataset and displaying the head.\n",
        "\n"
      ]
    },
    {
      "cell_type": "code",
      "execution_count": null,
      "metadata": {
        "colab": {
          "base_uri": "https://localhost:8080/"
        },
        "id": "82802381",
        "outputId": "0171283c-8ced-4261-c5b9-faca78f62976"
      },
      "outputs": [
        {
          "name": "stdout",
          "output_type": "stream",
          "text": [
            "   sepal_length  sepal_width  petal_length  petal_width      species\n",
            "0           5.1          3.5           1.4          0.2  Iris-setosa\n",
            "1           4.9          3.0           1.4          0.2  Iris-setosa\n",
            "2           4.7          3.2           1.3          0.2  Iris-setosa\n",
            "3           4.6          3.1           1.5          0.2  Iris-setosa\n",
            "4           5.0          3.6           1.4          0.2  Iris-setosa\n"
          ]
        }
      ],
      "source": [
        "df = pd.read_csv('IRIS.csv')\n",
        "print(df.head())"
      ]
    },
    {
      "cell_type": "markdown",
      "metadata": {
        "id": "324ba8a5"
      },
      "source": [
        "**Reasoning**:\n",
        "Create the markdown cell for the data preprocessing section and the code cell for encoding the target variable.\n",
        "\n"
      ]
    },
    {
      "cell_type": "code",
      "execution_count": null,
      "metadata": {
        "colab": {
          "base_uri": "https://localhost:8080/",
          "height": 64
        },
        "id": "74e49bcb",
        "outputId": "5123e3f0-dac1-403a-ead5-127e47579bb0"
      },
      "outputs": [
        {
          "data": {
            "text/markdown": [
              "## 2. Data Preprocessing\n"
            ],
            "text/plain": [
              "<IPython.core.display.Markdown object>"
            ]
          },
          "metadata": {},
          "output_type": "display_data"
        }
      ],
      "source": [
        "%%markdown\n",
        "## 2. Data Preprocessing"
      ]
    },
    {
      "cell_type": "markdown",
      "metadata": {
        "id": "b80cfd62"
      },
      "source": [
        "**Reasoning**:\n",
        "Create the code cell for encoding the target variable.\n",
        "\n"
      ]
    },
    {
      "cell_type": "code",
      "execution_count": null,
      "metadata": {
        "colab": {
          "base_uri": "https://localhost:8080/",
          "height": 206
        },
        "id": "365bd682",
        "outputId": "63fc7cfc-1abd-48de-f8a6-716fed68efb8"
      },
      "outputs": [
        {
          "data": {
            "application/vnd.google.colaboratory.intrinsic+json": {
              "summary": "{\n  \"name\": \"display(df\",\n  \"rows\": 5,\n  \"fields\": [\n    {\n      \"column\": \"sepal_length\",\n      \"properties\": {\n        \"dtype\": \"number\",\n        \"std\": 0.2073644135332772,\n        \"min\": 4.6,\n        \"max\": 5.1,\n        \"num_unique_values\": 5,\n        \"samples\": [\n          4.9,\n          5.0,\n          4.7\n        ],\n        \"semantic_type\": \"\",\n        \"description\": \"\"\n      }\n    },\n    {\n      \"column\": \"sepal_width\",\n      \"properties\": {\n        \"dtype\": \"number\",\n        \"std\": 0.2588435821108957,\n        \"min\": 3.0,\n        \"max\": 3.6,\n        \"num_unique_values\": 5,\n        \"samples\": [\n          3.0,\n          3.6,\n          3.2\n        ],\n        \"semantic_type\": \"\",\n        \"description\": \"\"\n      }\n    },\n    {\n      \"column\": \"petal_length\",\n      \"properties\": {\n        \"dtype\": \"number\",\n        \"std\": 0.07071067811865474,\n        \"min\": 1.3,\n        \"max\": 1.5,\n        \"num_unique_values\": 3,\n        \"samples\": [\n          1.4,\n          1.3,\n          1.5\n        ],\n        \"semantic_type\": \"\",\n        \"description\": \"\"\n      }\n    },\n    {\n      \"column\": \"petal_width\",\n      \"properties\": {\n        \"dtype\": \"number\",\n        \"std\": 0.0,\n        \"min\": 0.2,\n        \"max\": 0.2,\n        \"num_unique_values\": 1,\n        \"samples\": [\n          0.2\n        ],\n        \"semantic_type\": \"\",\n        \"description\": \"\"\n      }\n    },\n    {\n      \"column\": \"species\",\n      \"properties\": {\n        \"dtype\": \"number\",\n        \"std\": 0,\n        \"min\": 0,\n        \"max\": 0,\n        \"num_unique_values\": 1,\n        \"samples\": [\n          0\n        ],\n        \"semantic_type\": \"\",\n        \"description\": \"\"\n      }\n    }\n  ]\n}",
              "type": "dataframe"
            },
            "text/html": [
              "\n",
              "  <div id=\"df-640a64d3-d08e-4237-9523-4b1c24527ba5\" class=\"colab-df-container\">\n",
              "    <div>\n",
              "<style scoped>\n",
              "    .dataframe tbody tr th:only-of-type {\n",
              "        vertical-align: middle;\n",
              "    }\n",
              "\n",
              "    .dataframe tbody tr th {\n",
              "        vertical-align: top;\n",
              "    }\n",
              "\n",
              "    .dataframe thead th {\n",
              "        text-align: right;\n",
              "    }\n",
              "</style>\n",
              "<table border=\"1\" class=\"dataframe\">\n",
              "  <thead>\n",
              "    <tr style=\"text-align: right;\">\n",
              "      <th></th>\n",
              "      <th>sepal_length</th>\n",
              "      <th>sepal_width</th>\n",
              "      <th>petal_length</th>\n",
              "      <th>petal_width</th>\n",
              "      <th>species</th>\n",
              "    </tr>\n",
              "  </thead>\n",
              "  <tbody>\n",
              "    <tr>\n",
              "      <th>0</th>\n",
              "      <td>5.1</td>\n",
              "      <td>3.5</td>\n",
              "      <td>1.4</td>\n",
              "      <td>0.2</td>\n",
              "      <td>0</td>\n",
              "    </tr>\n",
              "    <tr>\n",
              "      <th>1</th>\n",
              "      <td>4.9</td>\n",
              "      <td>3.0</td>\n",
              "      <td>1.4</td>\n",
              "      <td>0.2</td>\n",
              "      <td>0</td>\n",
              "    </tr>\n",
              "    <tr>\n",
              "      <th>2</th>\n",
              "      <td>4.7</td>\n",
              "      <td>3.2</td>\n",
              "      <td>1.3</td>\n",
              "      <td>0.2</td>\n",
              "      <td>0</td>\n",
              "    </tr>\n",
              "    <tr>\n",
              "      <th>3</th>\n",
              "      <td>4.6</td>\n",
              "      <td>3.1</td>\n",
              "      <td>1.5</td>\n",
              "      <td>0.2</td>\n",
              "      <td>0</td>\n",
              "    </tr>\n",
              "    <tr>\n",
              "      <th>4</th>\n",
              "      <td>5.0</td>\n",
              "      <td>3.6</td>\n",
              "      <td>1.4</td>\n",
              "      <td>0.2</td>\n",
              "      <td>0</td>\n",
              "    </tr>\n",
              "  </tbody>\n",
              "</table>\n",
              "</div>\n",
              "    <div class=\"colab-df-buttons\">\n",
              "\n",
              "  <div class=\"colab-df-container\">\n",
              "    <button class=\"colab-df-convert\" onclick=\"convertToInteractive('df-640a64d3-d08e-4237-9523-4b1c24527ba5')\"\n",
              "            title=\"Convert this dataframe to an interactive table.\"\n",
              "            style=\"display:none;\">\n",
              "\n",
              "  <svg xmlns=\"http://www.w3.org/2000/svg\" height=\"24px\" viewBox=\"0 -960 960 960\">\n",
              "    <path d=\"M120-120v-720h720v720H120Zm60-500h600v-160H180v160Zm220 220h160v-160H400v160Zm0 220h160v-160H400v160ZM180-400h160v-160H180v160Zm440 0h160v-160H620v160ZM180-180h160v-160H180v160Zm440 0h160v-160H620v160Z\"/>\n",
              "  </svg>\n",
              "    </button>\n",
              "\n",
              "  <style>\n",
              "    .colab-df-container {\n",
              "      display:flex;\n",
              "      gap: 12px;\n",
              "    }\n",
              "\n",
              "    .colab-df-convert {\n",
              "      background-color: #E8F0FE;\n",
              "      border: none;\n",
              "      border-radius: 50%;\n",
              "      cursor: pointer;\n",
              "      display: none;\n",
              "      fill: #1967D2;\n",
              "      height: 32px;\n",
              "      padding: 0 0 0 0;\n",
              "      width: 32px;\n",
              "    }\n",
              "\n",
              "    .colab-df-convert:hover {\n",
              "      background-color: #E2EBFA;\n",
              "      box-shadow: 0px 1px 2px rgba(60, 64, 67, 0.3), 0px 1px 3px 1px rgba(60, 64, 67, 0.15);\n",
              "      fill: #174EA6;\n",
              "    }\n",
              "\n",
              "    .colab-df-buttons div {\n",
              "      margin-bottom: 4px;\n",
              "    }\n",
              "\n",
              "    [theme=dark] .colab-df-convert {\n",
              "      background-color: #3B4455;\n",
              "      fill: #D2E3FC;\n",
              "    }\n",
              "\n",
              "    [theme=dark] .colab-df-convert:hover {\n",
              "      background-color: #434B5C;\n",
              "      box-shadow: 0px 1px 3px 1px rgba(0, 0, 0, 0.15);\n",
              "      filter: drop-shadow(0px 1px 2px rgba(0, 0, 0, 0.3));\n",
              "      fill: #FFFFFF;\n",
              "    }\n",
              "  </style>\n",
              "\n",
              "    <script>\n",
              "      const buttonEl =\n",
              "        document.querySelector('#df-640a64d3-d08e-4237-9523-4b1c24527ba5 button.colab-df-convert');\n",
              "      buttonEl.style.display =\n",
              "        google.colab.kernel.accessAllowed ? 'block' : 'none';\n",
              "\n",
              "      async function convertToInteractive(key) {\n",
              "        const element = document.querySelector('#df-640a64d3-d08e-4237-9523-4b1c24527ba5');\n",
              "        const dataTable =\n",
              "          await google.colab.kernel.invokeFunction('convertToInteractive',\n",
              "                                                    [key], {});\n",
              "        if (!dataTable) return;\n",
              "\n",
              "        const docLinkHtml = 'Like what you see? Visit the ' +\n",
              "          '<a target=\"_blank\" href=https://colab.research.google.com/notebooks/data_table.ipynb>data table notebook</a>'\n",
              "          + ' to learn more about interactive tables.';\n",
              "        element.innerHTML = '';\n",
              "        dataTable['output_type'] = 'display_data';\n",
              "        await google.colab.output.renderOutput(dataTable, element);\n",
              "        const docLink = document.createElement('div');\n",
              "        docLink.innerHTML = docLinkHtml;\n",
              "        element.appendChild(docLink);\n",
              "      }\n",
              "    </script>\n",
              "  </div>\n",
              "\n",
              "\n",
              "    <div id=\"df-108c99f4-d46b-41f4-aa11-0a9d986db75e\">\n",
              "      <button class=\"colab-df-quickchart\" onclick=\"quickchart('df-108c99f4-d46b-41f4-aa11-0a9d986db75e')\"\n",
              "                title=\"Suggest charts\"\n",
              "                style=\"display:none;\">\n",
              "\n",
              "<svg xmlns=\"http://www.w3.org/2000/svg\" height=\"24px\"viewBox=\"0 0 24 24\"\n",
              "     width=\"24px\">\n",
              "    <g>\n",
              "        <path d=\"M19 3H5c-1.1 0-2 .9-2 2v14c0 1.1.9 2 2 2h14c1.1 0 2-.9 2-2V5c0-1.1-.9-2-2-2zM9 17H7v-7h2v7zm4 0h-2V7h2v10zm4 0h-2v-4h2v4z\"/>\n",
              "    </g>\n",
              "</svg>\n",
              "      </button>\n",
              "\n",
              "<style>\n",
              "  .colab-df-quickchart {\n",
              "      --bg-color: #E8F0FE;\n",
              "      --fill-color: #1967D2;\n",
              "      --hover-bg-color: #E2EBFA;\n",
              "      --hover-fill-color: #174EA6;\n",
              "      --disabled-fill-color: #AAA;\n",
              "      --disabled-bg-color: #DDD;\n",
              "  }\n",
              "\n",
              "  [theme=dark] .colab-df-quickchart {\n",
              "      --bg-color: #3B4455;\n",
              "      --fill-color: #D2E3FC;\n",
              "      --hover-bg-color: #434B5C;\n",
              "      --hover-fill-color: #FFFFFF;\n",
              "      --disabled-bg-color: #3B4455;\n",
              "      --disabled-fill-color: #666;\n",
              "  }\n",
              "\n",
              "  .colab-df-quickchart {\n",
              "    background-color: var(--bg-color);\n",
              "    border: none;\n",
              "    border-radius: 50%;\n",
              "    cursor: pointer;\n",
              "    display: none;\n",
              "    fill: var(--fill-color);\n",
              "    height: 32px;\n",
              "    padding: 0;\n",
              "    width: 32px;\n",
              "  }\n",
              "\n",
              "  .colab-df-quickchart:hover {\n",
              "    background-color: var(--hover-bg-color);\n",
              "    box-shadow: 0 1px 2px rgba(60, 64, 67, 0.3), 0 1px 3px 1px rgba(60, 64, 67, 0.15);\n",
              "    fill: var(--button-hover-fill-color);\n",
              "  }\n",
              "\n",
              "  .colab-df-quickchart-complete:disabled,\n",
              "  .colab-df-quickchart-complete:disabled:hover {\n",
              "    background-color: var(--disabled-bg-color);\n",
              "    fill: var(--disabled-fill-color);\n",
              "    box-shadow: none;\n",
              "  }\n",
              "\n",
              "  .colab-df-spinner {\n",
              "    border: 2px solid var(--fill-color);\n",
              "    border-color: transparent;\n",
              "    border-bottom-color: var(--fill-color);\n",
              "    animation:\n",
              "      spin 1s steps(1) infinite;\n",
              "  }\n",
              "\n",
              "  @keyframes spin {\n",
              "    0% {\n",
              "      border-color: transparent;\n",
              "      border-bottom-color: var(--fill-color);\n",
              "      border-left-color: var(--fill-color);\n",
              "    }\n",
              "    20% {\n",
              "      border-color: transparent;\n",
              "      border-left-color: var(--fill-color);\n",
              "      border-top-color: var(--fill-color);\n",
              "    }\n",
              "    30% {\n",
              "      border-color: transparent;\n",
              "      border-left-color: var(--fill-color);\n",
              "      border-top-color: var(--fill-color);\n",
              "      border-right-color: var(--fill-color);\n",
              "    }\n",
              "    40% {\n",
              "      border-color: transparent;\n",
              "      border-right-color: var(--fill-color);\n",
              "      border-top-color: var(--fill-color);\n",
              "    }\n",
              "    60% {\n",
              "      border-color: transparent;\n",
              "      border-right-color: var(--fill-color);\n",
              "    }\n",
              "    80% {\n",
              "      border-color: transparent;\n",
              "      border-right-color: var(--fill-color);\n",
              "      border-bottom-color: var(--fill-color);\n",
              "    }\n",
              "    90% {\n",
              "      border-color: transparent;\n",
              "      border-bottom-color: var(--fill-color);\n",
              "    }\n",
              "  }\n",
              "</style>\n",
              "\n",
              "      <script>\n",
              "        async function quickchart(key) {\n",
              "          const quickchartButtonEl =\n",
              "            document.querySelector('#' + key + ' button');\n",
              "          quickchartButtonEl.disabled = true;  // To prevent multiple clicks.\n",
              "          quickchartButtonEl.classList.add('colab-df-spinner');\n",
              "          try {\n",
              "            const charts = await google.colab.kernel.invokeFunction(\n",
              "                'suggestCharts', [key], {});\n",
              "          } catch (error) {\n",
              "            console.error('Error during call to suggestCharts:', error);\n",
              "          }\n",
              "          quickchartButtonEl.classList.remove('colab-df-spinner');\n",
              "          quickchartButtonEl.classList.add('colab-df-quickchart-complete');\n",
              "        }\n",
              "        (() => {\n",
              "          let quickchartButtonEl =\n",
              "            document.querySelector('#df-108c99f4-d46b-41f4-aa11-0a9d986db75e button');\n",
              "          quickchartButtonEl.style.display =\n",
              "            google.colab.kernel.accessAllowed ? 'block' : 'none';\n",
              "        })();\n",
              "      </script>\n",
              "    </div>\n",
              "\n",
              "    </div>\n",
              "  </div>\n"
            ],
            "text/plain": [
              "   sepal_length  sepal_width  petal_length  petal_width  species\n",
              "0           5.1          3.5           1.4          0.2        0\n",
              "1           4.9          3.0           1.4          0.2        0\n",
              "2           4.7          3.2           1.3          0.2        0\n",
              "3           4.6          3.1           1.5          0.2        0\n",
              "4           5.0          3.6           1.4          0.2        0"
            ]
          },
          "metadata": {},
          "output_type": "display_data"
        }
      ],
      "source": [
        "le = LabelEncoder()\n",
        "df['species'] = le.fit_transform(df['species'])\n",
        "display(df.head())"
      ]
    },
    {
      "cell_type": "markdown",
      "metadata": {
        "id": "5eb96e9d"
      },
      "source": [
        "**Reasoning**:\n",
        "Create the markdown cell for the data splitting section and the code cell for splitting the data.\n",
        "\n"
      ]
    },
    {
      "cell_type": "code",
      "execution_count": null,
      "metadata": {
        "colab": {
          "base_uri": "https://localhost:8080/",
          "height": 64
        },
        "id": "4df69530",
        "outputId": "fdbbdb30-4840-49da-9caa-5d27354f06f2"
      },
      "outputs": [
        {
          "data": {
            "text/markdown": [
              "## 3. Splitting Data\n"
            ],
            "text/plain": [
              "<IPython.core.display.Markdown object>"
            ]
          },
          "metadata": {},
          "output_type": "display_data"
        }
      ],
      "source": [
        "%%markdown\n",
        "## 3. Splitting Data"
      ]
    },
    {
      "cell_type": "markdown",
      "metadata": {
        "id": "6f31c02d"
      },
      "source": [
        "**Reasoning**:\n",
        "Create the code cell for splitting features and target, and for the train/test split.\n",
        "\n"
      ]
    },
    {
      "cell_type": "code",
      "execution_count": null,
      "metadata": {
        "colab": {
          "base_uri": "https://localhost:8080/"
        },
        "id": "73c9ba2c",
        "outputId": "0ac0009a-35d4-4b66-9464-47cc909957e4"
      },
      "outputs": [
        {
          "name": "stdout",
          "output_type": "stream",
          "text": [
            "Data splitting complete.\n"
          ]
        }
      ],
      "source": [
        "X = df.drop('species', axis=1)\n",
        "y = df['species']\n",
        "X_train, X_test, y_train, y_test = train_test_split(X, y, test_size=0.2, random_state=42)\n",
        "print(\"Data splitting complete.\")"
      ]
    },
    {
      "cell_type": "markdown",
      "metadata": {
        "id": "ea41a3c7"
      },
      "source": [
        "## Copy the user's code into the new code cells\n",
        "\n",
        "### Subtask:\n",
        "Copy the code from the user's existing code cell into the newly created code cells, distributing it according to the structure of the reference notebook.\n"
      ]
    },
    {
      "cell_type": "markdown",
      "metadata": {
        "id": "c8d7a288"
      },
      "source": [
        "**Reasoning**:\n",
        "Copy the code for model training, prediction, evaluation, and feature importance plotting into the newly created cells.\n",
        "\n"
      ]
    },
    {
      "cell_type": "code",
      "execution_count": null,
      "metadata": {
        "colab": {
          "base_uri": "https://localhost:8080/",
          "height": 64
        },
        "id": "6f6e1d75",
        "outputId": "f1e82ad6-b272-4ca8-984f-ed33ed55217d"
      },
      "outputs": [
        {
          "data": {
            "text/markdown": [
              "## 4. Model Training\n"
            ],
            "text/plain": [
              "<IPython.core.display.Markdown object>"
            ]
          },
          "metadata": {},
          "output_type": "display_data"
        }
      ],
      "source": [
        "%%markdown\n",
        "## 4. Model Training"
      ]
    },
    {
      "cell_type": "markdown",
      "metadata": {
        "id": "261eb2fc"
      },
      "source": [
        "**Reasoning**:\n",
        "Add the code for model training.\n",
        "\n"
      ]
    },
    {
      "cell_type": "code",
      "execution_count": null,
      "metadata": {
        "colab": {
          "base_uri": "https://localhost:8080/"
        },
        "id": "fa09218b",
        "outputId": "8a4637d5-d7da-42f0-ced5-a92497256b9b"
      },
      "outputs": [
        {
          "name": "stdout",
          "output_type": "stream",
          "text": [
            "Model training complete.\n"
          ]
        }
      ],
      "source": [
        "model = RandomForestClassifier(n_estimators=100, random_state=42)\n",
        "model.fit(X_train, y_train)\n",
        "print(\"Model training complete.\")"
      ]
    },
    {
      "cell_type": "markdown",
      "metadata": {
        "id": "41680fd6"
      },
      "source": [
        "**Reasoning**:\n",
        "Add markdown and code cells for model prediction and evaluation.\n",
        "\n"
      ]
    },
    {
      "cell_type": "code",
      "execution_count": null,
      "metadata": {
        "colab": {
          "base_uri": "https://localhost:8080/",
          "height": 64
        },
        "id": "da642002",
        "outputId": "8276270e-ae4c-4cb1-e769-df40640aa757"
      },
      "outputs": [
        {
          "data": {
            "text/markdown": [
              "## 5. Model Prediction and Evaluation\n"
            ],
            "text/plain": [
              "<IPython.core.display.Markdown object>"
            ]
          },
          "metadata": {},
          "output_type": "display_data"
        }
      ],
      "source": [
        "%%markdown\n",
        "## 5. Model Prediction and Evaluation"
      ]
    },
    {
      "cell_type": "markdown",
      "metadata": {
        "id": "4b416671"
      },
      "source": [
        "**Reasoning**:\n",
        "Add the code for model prediction and evaluation.\n",
        "\n"
      ]
    },
    {
      "cell_type": "code",
      "execution_count": null,
      "metadata": {
        "colab": {
          "base_uri": "https://localhost:8080/"
        },
        "id": "7c338ec2",
        "outputId": "ecdc4a2e-9064-4500-c9e2-b9eeff92d7d5"
      },
      "outputs": [
        {
          "name": "stdout",
          "output_type": "stream",
          "text": [
            "Accuracy: 1.0\n",
            "\n",
            "Classification Report:\n",
            "                  precision    recall  f1-score   support\n",
            "\n",
            "    Iris-setosa       1.00      1.00      1.00        10\n",
            "Iris-versicolor       1.00      1.00      1.00         9\n",
            " Iris-virginica       1.00      1.00      1.00        11\n",
            "\n",
            "       accuracy                           1.00        30\n",
            "      macro avg       1.00      1.00      1.00        30\n",
            "   weighted avg       1.00      1.00      1.00        30\n",
            "\n"
          ]
        }
      ],
      "source": [
        "y_pred = model.predict(X_test)\n",
        "print(\"Accuracy:\", accuracy_score(y_test, y_pred))\n",
        "print(\"\\nClassification Report:\\n\", classification_report(y_test, y_pred, target_names=le.classes_))"
      ]
    },
    {
      "cell_type": "markdown",
      "metadata": {
        "id": "0dcd98ae"
      },
      "source": [
        "**Reasoning**:\n",
        "Add markdown and code cells for the feature importance plot.\n",
        "\n"
      ]
    },
    {
      "cell_type": "code",
      "execution_count": null,
      "metadata": {
        "colab": {
          "base_uri": "https://localhost:8080/",
          "height": 64
        },
        "id": "49b60eae",
        "outputId": "8313290b-0440-424a-d1b6-a24264172660"
      },
      "outputs": [
        {
          "data": {
            "text/markdown": [
              "## 6. Feature Importance\n"
            ],
            "text/plain": [
              "<IPython.core.display.Markdown object>"
            ]
          },
          "metadata": {},
          "output_type": "display_data"
        }
      ],
      "source": [
        "%%markdown\n",
        "## 6. Feature Importance"
      ]
    },
    {
      "cell_type": "markdown",
      "metadata": {
        "id": "0ba7089a"
      },
      "source": [
        "**Reasoning**:\n",
        "Add the code for plotting feature importance.\n",
        "\n"
      ]
    },
    {
      "cell_type": "code",
      "execution_count": null,
      "metadata": {
        "colab": {
          "base_uri": "https://localhost:8080/",
          "height": 391
        },
        "id": "90d7c106",
        "outputId": "efc88413-b133-4db6-b4d1-2f618742ec26"
      },
      "outputs": [
        {
          "data": {
            "image/png": "[encoded data removed]",
            "text/plain": [
              "<Figure size 800x400 with 1 Axes>"
            ]
          },
          "metadata": {},
          "output_type": "display_data"
        }
      ],
      "source": [
        "plt.figure(figsize=(8, 4))\n",
        "sns.barplot(x=model.feature_importances_, y=X.columns)\n",
        "plt.title('Feature Importance')\n",
        "plt.show()"
      ]
    },
    {
      "cell_type": "markdown",
      "metadata": {
        "id": "c219a64c"
      },
      "source": [
        "## Summary:\n",
        "\n",
        "### Data Analysis Key Findings\n",
        "\n",
        "*   The initial attempt to examine the reference notebook's structure failed due to an inability to access the local file system.\n",
        "*   New markdown and code cells were successfully created to establish the desired notebook structure, including sections for data loading, preprocessing, splitting data, model training, prediction/evaluation, and feature importance.\n",
        "*   The existing code for the Iris classification task was successfully copied and placed into the corresponding new sections of the notebook.\n",
        "*   Markdown content, including titles, section headers, and descriptions, was added to the notebook to enhance its structure and readability, matching the style of the reference notebook.\n",
        "*   The notebook cells were successfully organized and refined to ensure they were in the correct order and that the content flowed logically, aligning with the structure of the reference notebook.\n",
        "\n",
        "### Insights or Next Steps\n",
        "\n",
        "*   The successful reorganization of the notebook provides a clear and structured workflow for the Iris flower classification task, making it easier to understand and maintain.\n",
        "*   Future tasks involving notebook structure replication should consider alternative methods for examining reference notebooks if direct file system access is not available.\n"
      ]
    },
    {
      "cell_type": "markdown",
      "metadata": {
        "id": "1127eb9a"
      },
      "source": [
        "## Enhanced Model Evaluation and Visualization\n",
        "\n",
        "This section provides a more visually appealing representation of the classification report and a heatmap of the confusion matrix for a detailed performance analysis."
      ]
    },
    {
      "cell_type": "code",
      "execution_count": null,
      "metadata": {
        "colab": {
          "base_uri": "https://localhost:8080/",
          "height": 802
        },
        "id": "85b9fcb4",
        "outputId": "9ea20ec9-dbdb-41ca-eeb7-49aac2fc5b41"
      },
      "outputs": [
        {
          "name": "stdout",
          "output_type": "stream",
          "text": [
            "Classification Report:\n"
          ]
        },
        {
          "data": {
            "text/html": [
              "<style type=\"text/css\">\n",
              "#T_04343_row0_col0, #T_04343_row0_col1, #T_04343_row0_col2, #T_04343_row1_col0, #T_04343_row1_col1, #T_04343_row1_col2, #T_04343_row2_col0, #T_04343_row2_col1, #T_04343_row2_col2, #T_04343_row3_col0, #T_04343_row3_col1, #T_04343_row3_col2, #T_04343_row3_col3, #T_04343_row4_col0, #T_04343_row4_col1, #T_04343_row4_col2, #T_04343_row5_col0, #T_04343_row5_col1, #T_04343_row5_col2 {\n",
              "  background-color: #f7fbff;\n",
              "  color: #000000;\n",
              "  font-size: 10pt;\n",
              "}\n",
              "#T_04343_row0_col3 {\n",
              "  background-color: #b3d3e8;\n",
              "  color: #000000;\n",
              "  font-size: 10pt;\n",
              "}\n",
              "#T_04343_row1_col3 {\n",
              "  background-color: #bed8ec;\n",
              "  color: #000000;\n",
              "  font-size: 10pt;\n",
              "}\n",
              "#T_04343_row2_col3 {\n",
              "  background-color: #a8cee4;\n",
              "  color: #000000;\n",
              "  font-size: 10pt;\n",
              "}\n",
              "#T_04343_row4_col3, #T_04343_row5_col3 {\n",
              "  background-color: #08306b;\n",
              "  color: #f1f1f1;\n",
              "  font-size: 10pt;\n",
              "}\n",
              "</style>\n",
              "<table id=\"T_04343\" class=\"dataframe\">\n",
              "  <thead>\n",
              "    <tr>\n",
              "      <th class=\"blank level0\" >&nbsp;</th>\n",
              "      <th id=\"T_04343_level0_col0\" class=\"col_heading level0 col0\" >precision</th>\n",
              "      <th id=\"T_04343_level0_col1\" class=\"col_heading level0 col1\" >recall</th>\n",
              "      <th id=\"T_04343_level0_col2\" class=\"col_heading level0 col2\" >f1-score</th>\n",
              "      <th id=\"T_04343_level0_col3\" class=\"col_heading level0 col3\" >support</th>\n",
              "    </tr>\n",
              "  </thead>\n",
              "  <tbody>\n",
              "    <tr>\n",
              "      <th id=\"T_04343_level0_row0\" class=\"row_heading level0 row0\" >Iris-setosa</th>\n",
              "      <td id=\"T_04343_row0_col0\" class=\"data row0 col0\" >1.000000</td>\n",
              "      <td id=\"T_04343_row0_col1\" class=\"data row0 col1\" >1.000000</td>\n",
              "      <td id=\"T_04343_row0_col2\" class=\"data row0 col2\" >1.000000</td>\n",
              "      <td id=\"T_04343_row0_col3\" class=\"data row0 col3\" >10.000000</td>\n",
              "    </tr>\n",
              "    <tr>\n",
              "      <th id=\"T_04343_level0_row1\" class=\"row_heading level0 row1\" >Iris-versicolor</th>\n",
              "      <td id=\"T_04343_row1_col0\" class=\"data row1 col0\" >1.000000</td>\n",
              "      <td id=\"T_04343_row1_col1\" class=\"data row1 col1\" >1.000000</td>\n",
              "      <td id=\"T_04343_row1_col2\" class=\"data row1 col2\" >1.000000</td>\n",
              "      <td id=\"T_04343_row1_col3\" class=\"data row1 col3\" >9.000000</td>\n",
              "    </tr>\n",
              "    <tr>\n",
              "      <th id=\"T_04343_level0_row2\" class=\"row_heading level0 row2\" >Iris-virginica</th>\n",
              "      <td id=\"T_04343_row2_col0\" class=\"data row2 col0\" >1.000000</td>\n",
              "      <td id=\"T_04343_row2_col1\" class=\"data row2 col1\" >1.000000</td>\n",
              "      <td id=\"T_04343_row2_col2\" class=\"data row2 col2\" >1.000000</td>\n",
              "      <td id=\"T_04343_row2_col3\" class=\"data row2 col3\" >11.000000</td>\n",
              "    </tr>\n",
              "    <tr>\n",
              "      <th id=\"T_04343_level0_row3\" class=\"row_heading level0 row3\" >accuracy</th>\n",
              "      <td id=\"T_04343_row3_col0\" class=\"data row3 col0\" >1.000000</td>\n",
              "      <td id=\"T_04343_row3_col1\" class=\"data row3 col1\" >1.000000</td>\n",
              "      <td id=\"T_04343_row3_col2\" class=\"data row3 col2\" >1.000000</td>\n",
              "      <td id=\"T_04343_row3_col3\" class=\"data row3 col3\" >1.000000</td>\n",
              "    </tr>\n",
              "    <tr>\n",
              "      <th id=\"T_04343_level0_row4\" class=\"row_heading level0 row4\" >macro avg</th>\n",
              "      <td id=\"T_04343_row4_col0\" class=\"data row4 col0\" >1.000000</td>\n",
              "      <td id=\"T_04343_row4_col1\" class=\"data row4 col1\" >1.000000</td>\n",
              "      <td id=\"T_04343_row4_col2\" class=\"data row4 col2\" >1.000000</td>\n",
              "      <td id=\"T_04343_row4_col3\" class=\"data row4 col3\" >30.000000</td>\n",
              "    </tr>\n",
              "    <tr>\n",
              "      <th id=\"T_04343_level0_row5\" class=\"row_heading level0 row5\" >weighted avg</th>\n",
              "      <td id=\"T_04343_row5_col0\" class=\"data row5 col0\" >1.000000</td>\n",
              "      <td id=\"T_04343_row5_col1\" class=\"data row5 col1\" >1.000000</td>\n",
              "      <td id=\"T_04343_row5_col2\" class=\"data row5 col2\" >1.000000</td>\n",
              "      <td id=\"T_04343_row5_col3\" class=\"data row5 col3\" >30.000000</td>\n",
              "    </tr>\n",
              "  </tbody>\n",
              "</table>\n"
            ],
            "text/plain": [
              "<pandas.io.formats.style.Styler at 0x793269a6c850>"
            ]
          },
          "metadata": {},
          "output_type": "display_data"
        },
        {
          "data": {
            "image/png": "[encoded data removed]",
            "text/plain": [
              "<Figure size 800x600 with 2 Axes>"
            ]
          },
          "metadata": {},
          "output_type": "display_data"
        }
      ],
      "source": [
        "# Generate classification report\n",
        "report = classification_report(y_test, y_pred, target_names=le.classes_, output_dict=True)\n",
        "report_df = pd.DataFrame(report).transpose()\n",
        "\n",
        "# Display classification report with improved formatting\n",
        "print(\"Classification Report:\")\n",
        "display(report_df.style.background_gradient(cmap='Blues').set_properties(**{'font-size': '10pt'}))\n",
        "\n",
        "# Generate confusion matrix\n",
        "from sklearn.metrics import confusion_matrix\n",
        "cm = confusion_matrix(y_test, y_pred)\n",
        "cm_df = pd.DataFrame(cm, index=le.classes_, columns=le.classes_)\n",
        "\n",
        "# Plot confusion matrix\n",
        "plt.figure(figsize=(8, 6))\n",
        "sns.heatmap(cm_df, annot=True, fmt='d', cmap='Blues')\n",
        "plt.title('Confusion Matrix')\n",
        "plt.xlabel('Predicted')\n",
        "plt.ylabel('Actual')\n",
        "plt.show()"
      ]
    }
  ],
  "metadata": {
    "colab": {
      "provenance": []
    },
    "kernelspec": {
      "display_name": "Python 3",
      "name": "python3"
    },
    "language_info": {
      "name": "python"
    }
  },
  "nbformat": 4,
  "nbformat_minor": 0
}
